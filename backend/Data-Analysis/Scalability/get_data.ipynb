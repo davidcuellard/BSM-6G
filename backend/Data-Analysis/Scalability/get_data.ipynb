{
 "cells": [
  {
   "cell_type": "markdown",
   "metadata": {},
   "source": [
    "### Scalability get data"
   ]
  },
  {
   "cell_type": "code",
   "execution_count": 1,
   "metadata": {},
   "outputs": [],
   "source": [
    "# Import libraries\n",
    "import re\n",
    "import pandas as pd\n"
   ]
  },
  {
   "cell_type": "code",
   "execution_count": 2,
   "metadata": {},
   "outputs": [],
   "source": [
    "# Get data using regular expressions\n",
    "def get_tps(input_file, output_file):\n",
    "\n",
    "  # Define the regular expression \n",
    "  pattern = r\"\\x1b\\[0m\\x1b\\[38;5;8m\\[\\x1b\\[0m(\\d{4}-\\d{2}-\\d{2}T\\d{2}:\\d{2}:\\d{2}\\.\\d{9})Z \\x1b\\[0m\\x1b\\[32mINFO \\x1b\\[0m solana_bench_tps::perf_utils\\x1b\\[0m\\x1b\\[38;5;8m\\]\\x1b\\[0m Sampler  (\\d+\\.\\d{2}) TPS, Transactions:  \\d+, Total transactions: \\d+ over \\d+ s\"\n",
    "\n",
    "  # Open the input file and read its contents\n",
    "  with open(input_file, \"r\") as file:\n",
    "    lines = file.readlines()\n",
    "\n",
    "  # Initialize lists to store extracted data\n",
    "  dates = []\n",
    "  times = []\n",
    "  tps_values = []\n",
    "\n",
    "  # Iterate over each line and match the pattern\n",
    "  for line in lines:\n",
    "    match = re.search(pattern, line)\n",
    "    if match:\n",
    "      date = match.group(1)[:10]\n",
    "      time = match.group(1)[11:]\n",
    "      tps = match.group(2)\n",
    "\n",
    "      dates.append(date)\n",
    "      times.append(time)\n",
    "      tps_values.append(tps)\n",
    "\n",
    "    # Create a DataFrame from the extracted data\n",
    "    data = {\"date\": dates, \"time\": times, \"tps\": tps_values}\n",
    "    df = pd.DataFrame(data)\n",
    "\n",
    "    df.index = df.index + 1\n",
    "\n",
    "    # Save the DataFrame to a CSV file\n",
    "    df.to_csv(output_file) \n",
    "\n",
    "  return df"
   ]
  },
  {
   "cell_type": "code",
   "execution_count": 3,
   "metadata": {},
   "outputs": [],
   "source": [
    "tx_count_50 = \"50\"\n",
    "df_tps_50 = get_tps(f'./files/output_tx_{tx_count_50}.txt', f'./files/output_tx_{tx_count_50}.csv')"
   ]
  },
  {
   "cell_type": "code",
   "execution_count": 4,
   "metadata": {},
   "outputs": [],
   "source": [
    "tx_count_500 = \"500\"\n",
    "df_tps_500 = get_tps(f'./files/output_tx_{tx_count_500}.txt', f'./files/output_tx_{tx_count_500}.csv')"
   ]
  },
  {
   "cell_type": "code",
   "execution_count": 5,
   "metadata": {},
   "outputs": [],
   "source": [
    "tx_count_1000 = \"1000\"\n",
    "df_tps_1000 = get_tps(f'./files/output_tx_{tx_count_1000}.txt', f'./files/output_tx_{tx_count_1000}.csv')"
   ]
  },
  {
   "cell_type": "code",
   "execution_count": 6,
   "metadata": {},
   "outputs": [],
   "source": [
    "tx_count_3000 = \"3000\"\n",
    "df_tps_3000 = get_tps(f'./files/output_tx_{tx_count_3000}.txt', f'./files/output_tx_{tx_count_3000}.csv')"
   ]
  }
 ],
 "metadata": {
  "kernelspec": {
   "display_name": "Python 3",
   "language": "python",
   "name": "python3"
  },
  "language_info": {
   "codemirror_mode": {
    "name": "ipython",
    "version": 3
   },
   "file_extension": ".py",
   "mimetype": "text/x-python",
   "name": "python",
   "nbconvert_exporter": "python",
   "pygments_lexer": "ipython3",
   "version": "3.11.3"
  },
  "orig_nbformat": 4
 },
 "nbformat": 4,
 "nbformat_minor": 2
}
